{
 "cells": [
  {
   "cell_type": "code",
   "execution_count": 89,
   "metadata": {},
   "outputs": [],
   "source": [
    "import numpy as np\n",
    "from scipy.optimize import minimize\n",
    "import scipy.stats as stats\n",
    "import pandas as pd\n",
    "import statsmodels.api as sm\n",
    "import matplotlib.pyplot as plt\n",
    "from scipy.stats import norm\n",
    "%matplotlib inline"
   ]
  },
  {
   "cell_type": "code",
   "execution_count": 90,
   "metadata": {},
   "outputs": [],
   "source": [
    "df = pd.read_csv('weatherHistory.csv')\n",
    "# print(df.columns)\n",
    "x = df['Temperature (C)'][:100]\n",
    "y = df['Humidity'][:100]"
   ]
  },
  {
   "cell_type": "code",
   "execution_count": 91,
   "metadata": {},
   "outputs": [],
   "source": [
    "fig, ax = plt.subplots()\n",
    "ax.plot(x,y, 'b*')\n",
    "plt.savefig('temp_humidity.png',bbox_inches='tight', dpi=300)\n",
    "plt.close()"
   ]
  },
  {
   "cell_type": "markdown",
   "metadata": {},
   "source": [
    "## Least-Squares Estimation"
   ]
  },
  {
   "cell_type": "code",
   "execution_count": 92,
   "metadata": {},
   "outputs": [
    {
     "name": "stdout",
     "output_type": "stream",
     "text": [
      "                            OLS Regression Results                            \n",
      "==============================================================================\n",
      "Dep. Variable:               Humidity   R-squared:                       0.676\n",
      "Model:                            OLS   Adj. R-squared:                  0.672\n",
      "Method:                 Least Squares   F-statistic:                     204.1\n",
      "Date:                Sat, 14 Aug 2021   Prob (F-statistic):           1.08e-25\n",
      "Time:                        23:41:24   Log-Likelihood:                 98.943\n",
      "No. Observations:                 100   AIC:                            -193.9\n",
      "Df Residuals:                      98   BIC:                            -188.7\n",
      "Df Model:                           1                                         \n",
      "Covariance Type:            nonrobust                                         \n",
      "===================================================================================\n",
      "                      coef    std err          t      P>|t|      [0.025      0.975]\n",
      "-----------------------------------------------------------------------------------\n",
      "const               1.1034      0.027     41.118      0.000       1.050       1.157\n",
      "Temperature (C)    -0.0309      0.002    -14.286      0.000      -0.035      -0.027\n",
      "==============================================================================\n",
      "Omnibus:                        6.966   Durbin-Watson:                   0.304\n",
      "Prob(Omnibus):                  0.031   Jarque-Bera (JB):                4.780\n",
      "Skew:                           0.391   Prob(JB):                       0.0916\n",
      "Kurtosis:                       2.268   Cond. No.                         36.9\n",
      "==============================================================================\n",
      "\n",
      "Warnings:\n",
      "[1] Standard Errors assume that the covariance matrix of the errors is correctly specified.\n"
     ]
    }
   ],
   "source": [
    "x2 = sm.add_constant(x) \n",
    "modl = sm.OLS(y,x2) \n",
    "mod12=modl.fit() \n",
    "print(mod12.summary())"
   ]
  },
  {
   "cell_type": "code",
   "execution_count": 93,
   "metadata": {},
   "outputs": [
    {
     "data": {
      "text/plain": [
       "0     0.078994\n",
       "1     0.045392\n",
       "2     0.076078\n",
       "3    -0.017538\n",
       "4    -0.003131\n",
       "        ...   \n",
       "95   -0.140915\n",
       "96   -0.127551\n",
       "97   -0.129781\n",
       "98   -0.055521\n",
       "99   -0.121153\n",
       "Length: 100, dtype: float64"
      ]
     },
     "execution_count": 93,
     "metadata": {},
     "output_type": "execute_result"
    }
   ],
   "source": [
    "## Error\n",
    "e=mod12.resid\n",
    "e"
   ]
  },
  {
   "cell_type": "code",
   "execution_count": 94,
   "metadata": {},
   "outputs": [
    {
     "data": {
      "text/plain": [
       "0.08996207447870591"
      ]
     },
     "execution_count": 94,
     "metadata": {},
     "output_type": "execute_result"
    }
   ],
   "source": [
    "estd = np.std(e)\n",
    "estd"
   ]
  },
  {
   "cell_type": "code",
   "execution_count": 95,
   "metadata": {},
   "outputs": [
    {
     "data": {
      "text/plain": [
       "1.1046719095020308e-16"
      ]
     },
     "execution_count": 95,
     "metadata": {},
     "output_type": "execute_result"
    }
   ],
   "source": [
    "emean = np.mean(e)\n",
    "emean"
   ]
  },
  {
   "cell_type": "code",
   "execution_count": 96,
   "metadata": {},
   "outputs": [
    {
     "data": {
      "text/plain": [
       "[<matplotlib.lines.Line2D at 0x7fb23e54b320>]"
      ]
     },
     "execution_count": 96,
     "metadata": {},
     "output_type": "execute_result"
    },
    {
     "data": {
      "image/png": "[encoded data removed]",
      "text/plain": [
       "<Figure size 432x288 with 1 Axes>"
      ]
     },
     "metadata": {
      "needs_background": "light"
     },
     "output_type": "display_data"
    }
   ],
   "source": [
    "fig, ax = plt.subplots()\n",
    "ax.plot(norm.pdf(e, loc=emean, scale=estd), 'r*')\n",
    "ax.plot(emean, 'b*')"
   ]
  },
  {
   "cell_type": "markdown",
   "metadata": {},
   "source": [
    "## Maximum Likelihood Estimation"
   ]
  },
  {
   "cell_type": "code",
   "execution_count": 97,
   "metadata": {},
   "outputs": [],
   "source": [
    "def lik(parameters, x, y): \n",
    "    m = parameters[0] \n",
    "    b = parameters[1] \n",
    "    sigma = parameters[2] \n",
    "    \n",
    "    y_exp = m * x + b \n",
    "        \n",
    "    L = np.sum(np.log(norm.pdf(y - y_exp, loc = 0, scale=sigma)))\n",
    "    return -L\n",
    "\n",
    "\n",
    "def constraints(parameters):\n",
    "    sigma = parameters[2]\n",
    "    return sigma\n",
    "\n",
    "cons = {\n",
    "    'type': 'ineq',\n",
    "    'fun': constraints\n",
    "}"
   ]
  },
  {
   "cell_type": "code",
   "execution_count": 98,
   "metadata": {},
   "outputs": [
    {
     "name": "stderr",
     "output_type": "stream",
     "text": [
      "/Users/utpalkumar50/miniconda3/envs/dataScience/lib/python3.7/site-packages/ipykernel_launcher.py:8: RuntimeWarning: divide by zero encountered in log\n",
      "  \n"
     ]
    }
   ],
   "source": [
    "lik_model = minimize(lik, np.array([2, 2, 2]), args=(x,y,), constraints=cons)"
   ]
  },
  {
   "cell_type": "code",
   "execution_count": 99,
   "metadata": {},
   "outputs": [
    {
     "data": {
      "text/plain": [
       "     fun: -98.9428558904145\n",
       "     jac: array([-0.0995636 , -0.00924873,  0.0002718 ])\n",
       " message: 'Optimization terminated successfully.'\n",
       "    nfev: 387\n",
       "     nit: 65\n",
       "    njev: 65\n",
       "  status: 0\n",
       " success: True\n",
       "       x: array([-0.03087142,  1.10342661,  0.08996208])"
      ]
     },
     "execution_count": 99,
     "metadata": {},
     "output_type": "execute_result"
    }
   ],
   "source": [
    "lik_model"
   ]
  },
  {
   "cell_type": "code",
   "execution_count": null,
   "metadata": {},
   "outputs": [],
   "source": []
  }
 ],
 "metadata": {
  "kernelspec": {
   "display_name": "Python 3",
   "language": "python",
   "name": "python3"
  },
  "language_info": {
   "codemirror_mode": {
    "name": "ipython",
    "version": 3
   },
   "file_extension": ".py",
   "mimetype": "text/x-python",
   "name": "python",
   "nbconvert_exporter": "python",
   "pygments_lexer": "ipython3",
   "version": "3.7.3"
  }
 },
 "nbformat": 4,
 "nbformat_minor": 4
}
